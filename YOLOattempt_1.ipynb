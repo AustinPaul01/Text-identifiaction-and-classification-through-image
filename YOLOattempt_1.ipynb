{
  "nbformat": 4,
  "nbformat_minor": 0,
  "metadata": {
    "colab": {
      "provenance": []
    },
    "kernelspec": {
      "name": "python3",
      "display_name": "Python 3"
    },
    "language_info": {
      "name": "python"
    }
  },
  "cells": [
    {
      "cell_type": "code",
      "execution_count": null,
      "metadata": {
        "id": "Rdn3ao7NfVmd"
      },
      "outputs": [],
      "source": [
        "#1.Digitize the invoices– Invoices are in the form of pdfs that need to be digitized.\n",
        "#Depending on the quality of the input, we need to add an image preprocessing pipeline for best results.\n",
        "#2.Extract data– Data extraction is done using AI algorithms.\n",
        "#We can process this extracted information using Optical Character Recognition.\n",
        "#Here, it is important to identify which piece of text corresponds to which field.\n",
        "#3.Create database– After the data has been extracted, we need to create a database based on a unique identifier."
      ]
    },
    {
      "cell_type": "code",
      "source": [
        "!pip install pytesseract\n",
        "!sudo apt-get install tesseract-ocr-ind"
      ],
      "metadata": {
        "colab": {
          "base_uri": "https://localhost:8080/"
        },
        "id": "mvQRpfRHHnwm",
        "outputId": "02f2bc4d-bf62-4564-bd2e-0dc2b128f68d"
      },
      "execution_count": null,
      "outputs": [
        {
          "output_type": "stream",
          "name": "stdout",
          "text": [
            "Looking in indexes: https://pypi.org/simple, https://us-python.pkg.dev/colab-wheels/public/simple/\n",
            "Collecting pytesseract\n",
            "  Downloading pytesseract-0.3.10-py3-none-any.whl (14 kB)\n",
            "Requirement already satisfied: packaging>=21.3 in /usr/local/lib/python3.9/dist-packages (from pytesseract) (23.0)\n",
            "Requirement already satisfied: Pillow>=8.0.0 in /usr/local/lib/python3.9/dist-packages (from pytesseract) (8.4.0)\n",
            "Installing collected packages: pytesseract\n",
            "Successfully installed pytesseract-0.3.10\n",
            "Reading package lists... Done\n",
            "Building dependency tree       \n",
            "Reading state information... Done\n",
            "The following additional packages will be installed:\n",
            "  tesseract-ocr tesseract-ocr-eng tesseract-ocr-osd\n",
            "The following NEW packages will be installed:\n",
            "  tesseract-ocr tesseract-ocr-eng tesseract-ocr-ind tesseract-ocr-osd\n",
            "0 upgraded, 4 newly installed, 0 to remove and 23 not upgraded.\n",
            "Need to get 5,387 kB of archives.\n",
            "After this operation, 17.4 MB of additional disk space will be used.\n",
            "Get:1 http://archive.ubuntu.com/ubuntu focal/universe amd64 tesseract-ocr-eng all 1:4.00~git30-7274cfa-1 [1,598 kB]\n",
            "Get:2 http://archive.ubuntu.com/ubuntu focal/universe amd64 tesseract-ocr-osd all 1:4.00~git30-7274cfa-1 [2,990 kB]\n",
            "Get:3 http://archive.ubuntu.com/ubuntu focal/universe amd64 tesseract-ocr amd64 4.1.1-2build2 [262 kB]\n",
            "Get:4 http://archive.ubuntu.com/ubuntu focal/universe amd64 tesseract-ocr-ind all 1:4.00~git30-7274cfa-1 [536 kB]\n",
            "Fetched 5,387 kB in 1s (7,981 kB/s)\n",
            "debconf: unable to initialize frontend: Dialog\n",
            "debconf: (No usable dialog-like program is installed, so the dialog based frontend cannot be used. at /usr/share/perl5/Debconf/FrontEnd/Dialog.pm line 76, <> line 4.)\n",
            "debconf: falling back to frontend: Readline\n",
            "debconf: unable to initialize frontend: Readline\n",
            "debconf: (This frontend requires a controlling tty.)\n",
            "debconf: falling back to frontend: Teletype\n",
            "dpkg-preconfigure: unable to re-open stdin: \n",
            "Selecting previously unselected package tesseract-ocr-eng.\n",
            "(Reading database ... 128276 files and directories currently installed.)\n",
            "Preparing to unpack .../tesseract-ocr-eng_1%3a4.00~git30-7274cfa-1_all.deb ...\n",
            "Unpacking tesseract-ocr-eng (1:4.00~git30-7274cfa-1) ...\n",
            "Selecting previously unselected package tesseract-ocr-osd.\n",
            "Preparing to unpack .../tesseract-ocr-osd_1%3a4.00~git30-7274cfa-1_all.deb ...\n",
            "Unpacking tesseract-ocr-osd (1:4.00~git30-7274cfa-1) ...\n",
            "Selecting previously unselected package tesseract-ocr.\n",
            "Preparing to unpack .../tesseract-ocr_4.1.1-2build2_amd64.deb ...\n",
            "Unpacking tesseract-ocr (4.1.1-2build2) ...\n",
            "Selecting previously unselected package tesseract-ocr-ind.\n",
            "Preparing to unpack .../tesseract-ocr-ind_1%3a4.00~git30-7274cfa-1_all.deb ...\n",
            "Unpacking tesseract-ocr-ind (1:4.00~git30-7274cfa-1) ...\n",
            "Setting up tesseract-ocr-eng (1:4.00~git30-7274cfa-1) ...\n",
            "Setting up tesseract-ocr-ind (1:4.00~git30-7274cfa-1) ...\n",
            "Setting up tesseract-ocr-osd (1:4.00~git30-7274cfa-1) ...\n",
            "Setting up tesseract-ocr (4.1.1-2build2) ...\n",
            "Processing triggers for man-db (2.9.1-1) ...\n"
          ]
        }
      ]
    },
    {
      "cell_type": "code",
      "source": [
        "#libraries\n",
        "import os\n",
        "import cv2\n",
        "import numpy as np\n",
        "import pandas as pd\n",
        "import pytesseract\n",
        "import imutils\n",
        "import re\n"
      ],
      "metadata": {
        "id": "1tnFbHwdiPrk"
      },
      "execution_count": null,
      "outputs": []
    },
    {
      "cell_type": "code",
      "source": [
        "from google.colab import drive\n",
        "drive.mount('/content/drive')\n"
      ],
      "metadata": {
        "colab": {
          "base_uri": "https://localhost:8080/"
        },
        "id": "mPWsnZRHGzeq",
        "outputId": "d25140d5-f6da-46e7-9f85-959378f50d54"
      },
      "execution_count": null,
      "outputs": [
        {
          "output_type": "stream",
          "name": "stdout",
          "text": [
            "Mounted at /content/drive\n"
          ]
        }
      ]
    },
    {
      "cell_type": "code",
      "source": [
        "#processing the invoice image\n",
        "def preprocess_image(image):\n",
        "  gray = cv2.cvtColor(image, cv2.COLOR_BGR2GRAY)\n",
        "  blurred = cv2.GaussianBlur(gray, (5, 5), 0)\n",
        "  edged = cv2.Canny(blurred, 50, 200, 255)\n",
        "  return edged\n",
        ""
      ],
      "metadata": {
        "id": "6efEK_12IeGM"
      },
      "execution_count": null,
      "outputs": []
    },
    {
      "cell_type": "code",
      "source": [
        "#Object Detection using YOLO algorithm\n",
        "def detect_objects(image):\n",
        "  net = cv2.dnn.readNetFromDarknet(\"/content/drive/MyDrive/yolov3.cfg\", \"/content/drive/MyDrive/yolov3.weights\")\n",
        "  ln = net.getLayerNames()\n",
        "  ln = [ln[i[0] - 1] for i in net.getUnconnectedOutLayers()]\n",
        "  blob = cv2.dnn.blobFromImage(image, 1/255.0, (416, 416), swapRB=True, crop=False)\n",
        "  net.setInput(blob)\n",
        "  layerOutputs = net.forward(ln)\n",
        "  boxes = []\n",
        "  confidences = []\n",
        "  classIDs = []\n",
        "  for output in layerOutputs:\n",
        "    for detection in output:\n",
        "      scores = detection[5:]\n",
        "      classID = np.argmax(scores)\n",
        "      confidence = scores[classID]\n",
        "      if confidence > 0.5:\n",
        "        box = detection[0:4] * np.array([w, h, w, h])\n",
        "        (centerX, centerY, width, height) = box.astype(\"int\")\n",
        "        x = int(centerX - (width / 2))\n",
        "        y = int(centerY - (height / 2))\n",
        "        boxes.append([x, y, int(width), int(height)])\n",
        "        confidences.append(float(confidence))\n",
        "        classIDs.append(classID)\n",
        "  idxs = cv2.dnn.NMSBoxes(boxes, confidences, 0.5, 0.3)\n",
        "  return idxs, boxes, classIDs\n"
      ],
      "metadata": {
        "id": "r4oXgLl8I5MA"
      },
      "execution_count": null,
      "outputs": []
    },
    {
      "cell_type": "code",
      "source": [
        "#Optical Character Recognition\n",
        "def extract_text(image, roi):\n",
        "  x, y, w, h = roi\n",
        "  roi_image = image[y:y+h, x:x+w]\n",
        "  text = pytesseract.image_to_string(roi_image, lang='eng')\n",
        "  return text\n"
      ],
      "metadata": {
        "id": "tLFYjyzLKBai"
      },
      "execution_count": null,
      "outputs": []
    },
    {
      "cell_type": "code",
      "source": [
        "#list\n",
        "field_identifiers=[    \"Invoice number\",    \"Invoice date\",    \"Payment terms\",    \"Due date\",    \"Buyer's name and address\",    \"Seller's name and address\",    \"Item description\",    \"Quantity\",    \"Price\",    \"Total amount due\",    \"Taxes\",\"Proforma invoice number\",    \"Date of the proforma invoice\",    \"Buyer's name and address\",    \"Seller's name and address\",    \"Item description\",    \"Quantity\",    \"Price\",    \"Total amount due\",    \"Shipping terms and charges\",\n",
        "   \"Invoice number\",    \"Invoice date\",    \"Buyer's name and address\",    \"Seller's name and address\",    \"Item description\",    \"Quantity\",    \"Price\",    \"Total amount due\",    \"Shipping terms and charges\",    \"Country of origin\",    \"Harmonized System (HS) code for each item\",\n",
        "\n",
        "   \"Invoice number\",    \"Invoice date\",    \"Client name and address\",    \"Contractor name and address\",    \"Work description\",    \"Number of hours worked\",    \"Hourly rate\",    \"Total amount due\",\n",
        "\n",
        "  \"Invoice number\",    \"Invoice date\",    \"Client name and address\",    \"Service provider name and address\",    \"Service description\",    \"Hourly rate or fixed fee\",    \"Total amount due\"]\n",
        "\n"
      ],
      "metadata": {
        "id": "TYrmC0f5YKSy"
      },
      "execution_count": null,
      "outputs": []
    },
    {
      "cell_type": "code",
      "source": [
        "#Mapping Fields with Data\n",
        "def map_fields_with_data(text, field_identifiers):\n",
        "  data = {}\n",
        "  # loop through each field identifier and use regular expressions to match the text with the fields\n",
        "  for identifier in field_identifiers:\n",
        "    match = re.search(rf'{identifier}:(.*)', text)\n",
        "    if match:\n",
        "      data[identifier] = match.group(1).strip()\n",
        "  return data\n"
      ],
      "metadata": {
        "id": "PKbz7WJ-KYEg"
      },
      "execution_count": null,
      "outputs": []
    },
    {
      "cell_type": "code",
      "source": [
        "#printing the data\n",
        "print(map_fields_with_data)"
      ],
      "metadata": {
        "colab": {
          "base_uri": "https://localhost:8080/"
        },
        "id": "uTW_sytAZkyh",
        "outputId": "bc5b65dd-c5fb-4552-b9a7-c628e243db66"
      },
      "execution_count": null,
      "outputs": [
        {
          "output_type": "stream",
          "name": "stdout",
          "text": [
            "<function map_fields_with_data at 0x7f4e8e2750d0>\n"
          ]
        }
      ]
    },
    {
      "cell_type": "code",
      "source": [
        "# Define the unique identifier for each invoice\n",
        "unique_identifiers = [\"Invoice No\", \"Date\"]\n",
        "\n",
        "# Load the invoice images from Google Drive\n",
        "image_path ='/content/drive/MyDrive/'\n",
        "image_name=['WhatsApp Image 2023-03-18  at 14.56.45.jpg','WhatsApp Image 2023-03-18 at 15.01.20.jpg','WhatsApp Image 2023-03-18 at 15.26.59.jpg','WhatsApp Image 2023-03-18 at 15.33.20.jpg']\n",
        "\n",
        "\n",
        "# Create a dictionary to store the extracted data for each invoice\n",
        "invoice_data = {}\n",
        "\n",
        "# Loop through each invoice image and extract the data\n",
        "for name in image_name:\n",
        "  image = cv2.imread(os.path.join(image_path,name))\n",
        "  h, w = image.shape[:2]\n",
        "  processed_image = preprocess_image(image)\n",
        "   idxs, boxes, classIDs = detect_objects(processed_image)\n",
        "\n",
        "  # Loop through each object detected by YOLO and extract the text using OCR\n",
        "  for i in idxs.flatten():\n",
        "    if classIDs[i] == 0: # Only extract text from objects classified as text\n",
        "      box = boxes[i]\n",
        "      text = extract_text(image, box)\n",
        "\n",
        "      # Map the extracted text to its corresponding field using regular expressions\n",
        "      data = map_fields_with_data(text, field_identifiers)\n",
        "      if len(data) > 0:\n",
        "        # If a matching field is found, add the text to the data dictionary\n",
        "        data.update(data)\n",
        "\n",
        "      # Get the unique identifier for the invoice\n",
        "      identifier_values = [data[identifier] for identifier in unique_identifiers]\n",
        "      identifier = \"-\".join(identifier_values)\n",
        "\n",
        "      # Add the extracted data to the dictionary for the current invoice\n",
        "      if identifier in invoice_data:\n",
        "        invoice_data[identifier].update(data)\n",
        "      else:\n",
        "        invoice_data[identifier] = data\n",
        "\n",
        "# Print the extracted data for each invoice\n",
        "for identifier, data in invoice_data.items():\n",
        "  print(f\"Data for invoice {identifier}:\")\n",
        "  for field, value in data.items():\n",
        "    print(f\"{field}: {value}\")\n",
        "  print()\n"
      ],
      "metadata": {
        "colab": {
          "base_uri": "https://localhost:8080/",
          "height": 501
        },
        "id": "gLrCDNuL77e6",
        "outputId": "254e7d17-ad06-4559-f75d-a3f5331e07f0"
      },
      "execution_count": null,
      "outputs": [
        {
          "output_type": "error",
          "ename": "IndexError",
          "evalue": "ignored",
          "traceback": [
            "\u001b[0;31m---------------------------------------------------------------------------\u001b[0m",
            "\u001b[0;31mIndexError\u001b[0m                                Traceback (most recent call last)",
            "\u001b[0;32m<ipython-input-28-c34c22ed5a44>\u001b[0m in \u001b[0;36m<module>\u001b[0;34m\u001b[0m\n\u001b[1;32m     15\u001b[0m   \u001b[0mh\u001b[0m\u001b[0;34m,\u001b[0m \u001b[0mw\u001b[0m \u001b[0;34m=\u001b[0m \u001b[0mimage\u001b[0m\u001b[0;34m.\u001b[0m\u001b[0mshape\u001b[0m\u001b[0;34m[\u001b[0m\u001b[0;34m:\u001b[0m\u001b[0;36m2\u001b[0m\u001b[0;34m]\u001b[0m\u001b[0;34m\u001b[0m\u001b[0;34m\u001b[0m\u001b[0m\n\u001b[1;32m     16\u001b[0m   \u001b[0mprocessed_image\u001b[0m \u001b[0;34m=\u001b[0m \u001b[0mpreprocess_image\u001b[0m\u001b[0;34m(\u001b[0m\u001b[0mimage\u001b[0m\u001b[0;34m)\u001b[0m\u001b[0;34m\u001b[0m\u001b[0;34m\u001b[0m\u001b[0m\n\u001b[0;32m---> 17\u001b[0;31m   \u001b[0midxs\u001b[0m\u001b[0;34m,\u001b[0m \u001b[0mboxes\u001b[0m\u001b[0;34m,\u001b[0m \u001b[0mclassIDs\u001b[0m \u001b[0;34m=\u001b[0m \u001b[0mdetect_objects\u001b[0m\u001b[0;34m(\u001b[0m\u001b[0mprocessed_image\u001b[0m\u001b[0;34m)\u001b[0m\u001b[0;34m\u001b[0m\u001b[0;34m\u001b[0m\u001b[0m\n\u001b[0m\u001b[1;32m     18\u001b[0m \u001b[0;34m\u001b[0m\u001b[0m\n\u001b[1;32m     19\u001b[0m   \u001b[0;31m# Loop through each object detected by YOLO and extract the text using OCR\u001b[0m\u001b[0;34m\u001b[0m\u001b[0;34m\u001b[0m\u001b[0m\n",
            "\u001b[0;32m<ipython-input-5-0d716baede87>\u001b[0m in \u001b[0;36mdetect_objects\u001b[0;34m(image)\u001b[0m\n\u001b[1;32m      3\u001b[0m   \u001b[0mnet\u001b[0m \u001b[0;34m=\u001b[0m \u001b[0mcv2\u001b[0m\u001b[0;34m.\u001b[0m\u001b[0mdnn\u001b[0m\u001b[0;34m.\u001b[0m\u001b[0mreadNetFromDarknet\u001b[0m\u001b[0;34m(\u001b[0m\u001b[0;34m\"/content/drive/MyDrive/yolov3.cfg\"\u001b[0m\u001b[0;34m,\u001b[0m \u001b[0;34m\"/content/drive/MyDrive/yolov3.weights\"\u001b[0m\u001b[0;34m)\u001b[0m\u001b[0;34m\u001b[0m\u001b[0;34m\u001b[0m\u001b[0m\n\u001b[1;32m      4\u001b[0m   \u001b[0mln\u001b[0m \u001b[0;34m=\u001b[0m \u001b[0mnet\u001b[0m\u001b[0;34m.\u001b[0m\u001b[0mgetLayerNames\u001b[0m\u001b[0;34m(\u001b[0m\u001b[0;34m)\u001b[0m\u001b[0;34m\u001b[0m\u001b[0;34m\u001b[0m\u001b[0m\n\u001b[0;32m----> 5\u001b[0;31m   \u001b[0mln\u001b[0m \u001b[0;34m=\u001b[0m \u001b[0;34m[\u001b[0m\u001b[0mln\u001b[0m\u001b[0;34m[\u001b[0m\u001b[0mi\u001b[0m\u001b[0;34m[\u001b[0m\u001b[0;36m0\u001b[0m\u001b[0;34m]\u001b[0m \u001b[0;34m-\u001b[0m \u001b[0;36m1\u001b[0m\u001b[0;34m]\u001b[0m \u001b[0;32mfor\u001b[0m \u001b[0mi\u001b[0m \u001b[0;32min\u001b[0m \u001b[0mnet\u001b[0m\u001b[0;34m.\u001b[0m\u001b[0mgetUnconnectedOutLayers\u001b[0m\u001b[0;34m(\u001b[0m\u001b[0;34m)\u001b[0m\u001b[0;34m]\u001b[0m\u001b[0;34m\u001b[0m\u001b[0;34m\u001b[0m\u001b[0m\n\u001b[0m\u001b[1;32m      6\u001b[0m   \u001b[0mblob\u001b[0m \u001b[0;34m=\u001b[0m \u001b[0mcv2\u001b[0m\u001b[0;34m.\u001b[0m\u001b[0mdnn\u001b[0m\u001b[0;34m.\u001b[0m\u001b[0mblobFromImage\u001b[0m\u001b[0;34m(\u001b[0m\u001b[0mimage\u001b[0m\u001b[0;34m,\u001b[0m \u001b[0;36m1\u001b[0m\u001b[0;34m/\u001b[0m\u001b[0;36m255.0\u001b[0m\u001b[0;34m,\u001b[0m \u001b[0;34m(\u001b[0m\u001b[0;36m416\u001b[0m\u001b[0;34m,\u001b[0m \u001b[0;36m416\u001b[0m\u001b[0;34m)\u001b[0m\u001b[0;34m,\u001b[0m \u001b[0mswapRB\u001b[0m\u001b[0;34m=\u001b[0m\u001b[0;32mTrue\u001b[0m\u001b[0;34m,\u001b[0m \u001b[0mcrop\u001b[0m\u001b[0;34m=\u001b[0m\u001b[0;32mFalse\u001b[0m\u001b[0;34m)\u001b[0m\u001b[0;34m\u001b[0m\u001b[0;34m\u001b[0m\u001b[0m\n\u001b[1;32m      7\u001b[0m   \u001b[0mnet\u001b[0m\u001b[0;34m.\u001b[0m\u001b[0msetInput\u001b[0m\u001b[0;34m(\u001b[0m\u001b[0mblob\u001b[0m\u001b[0;34m)\u001b[0m\u001b[0;34m\u001b[0m\u001b[0;34m\u001b[0m\u001b[0m\n",
            "\u001b[0;32m<ipython-input-5-0d716baede87>\u001b[0m in \u001b[0;36m<listcomp>\u001b[0;34m(.0)\u001b[0m\n\u001b[1;32m      3\u001b[0m   \u001b[0mnet\u001b[0m \u001b[0;34m=\u001b[0m \u001b[0mcv2\u001b[0m\u001b[0;34m.\u001b[0m\u001b[0mdnn\u001b[0m\u001b[0;34m.\u001b[0m\u001b[0mreadNetFromDarknet\u001b[0m\u001b[0;34m(\u001b[0m\u001b[0;34m\"/content/drive/MyDrive/yolov3.cfg\"\u001b[0m\u001b[0;34m,\u001b[0m \u001b[0;34m\"/content/drive/MyDrive/yolov3.weights\"\u001b[0m\u001b[0;34m)\u001b[0m\u001b[0;34m\u001b[0m\u001b[0;34m\u001b[0m\u001b[0m\n\u001b[1;32m      4\u001b[0m   \u001b[0mln\u001b[0m \u001b[0;34m=\u001b[0m \u001b[0mnet\u001b[0m\u001b[0;34m.\u001b[0m\u001b[0mgetLayerNames\u001b[0m\u001b[0;34m(\u001b[0m\u001b[0;34m)\u001b[0m\u001b[0;34m\u001b[0m\u001b[0;34m\u001b[0m\u001b[0m\n\u001b[0;32m----> 5\u001b[0;31m   \u001b[0mln\u001b[0m \u001b[0;34m=\u001b[0m \u001b[0;34m[\u001b[0m\u001b[0mln\u001b[0m\u001b[0;34m[\u001b[0m\u001b[0mi\u001b[0m\u001b[0;34m[\u001b[0m\u001b[0;36m0\u001b[0m\u001b[0;34m]\u001b[0m \u001b[0;34m-\u001b[0m \u001b[0;36m1\u001b[0m\u001b[0;34m]\u001b[0m \u001b[0;32mfor\u001b[0m \u001b[0mi\u001b[0m \u001b[0;32min\u001b[0m \u001b[0mnet\u001b[0m\u001b[0;34m.\u001b[0m\u001b[0mgetUnconnectedOutLayers\u001b[0m\u001b[0;34m(\u001b[0m\u001b[0;34m)\u001b[0m\u001b[0;34m]\u001b[0m\u001b[0;34m\u001b[0m\u001b[0;34m\u001b[0m\u001b[0m\n\u001b[0m\u001b[1;32m      6\u001b[0m   \u001b[0mblob\u001b[0m \u001b[0;34m=\u001b[0m \u001b[0mcv2\u001b[0m\u001b[0;34m.\u001b[0m\u001b[0mdnn\u001b[0m\u001b[0;34m.\u001b[0m\u001b[0mblobFromImage\u001b[0m\u001b[0;34m(\u001b[0m\u001b[0mimage\u001b[0m\u001b[0;34m,\u001b[0m \u001b[0;36m1\u001b[0m\u001b[0;34m/\u001b[0m\u001b[0;36m255.0\u001b[0m\u001b[0;34m,\u001b[0m \u001b[0;34m(\u001b[0m\u001b[0;36m416\u001b[0m\u001b[0;34m,\u001b[0m \u001b[0;36m416\u001b[0m\u001b[0;34m)\u001b[0m\u001b[0;34m,\u001b[0m \u001b[0mswapRB\u001b[0m\u001b[0;34m=\u001b[0m\u001b[0;32mTrue\u001b[0m\u001b[0;34m,\u001b[0m \u001b[0mcrop\u001b[0m\u001b[0;34m=\u001b[0m\u001b[0;32mFalse\u001b[0m\u001b[0;34m)\u001b[0m\u001b[0;34m\u001b[0m\u001b[0;34m\u001b[0m\u001b[0m\n\u001b[1;32m      7\u001b[0m   \u001b[0mnet\u001b[0m\u001b[0;34m.\u001b[0m\u001b[0msetInput\u001b[0m\u001b[0;34m(\u001b[0m\u001b[0mblob\u001b[0m\u001b[0;34m)\u001b[0m\u001b[0;34m\u001b[0m\u001b[0;34m\u001b[0m\u001b[0m\n",
            "\u001b[0;31mIndexError\u001b[0m: invalid index to scalar variable."
          ]
        }
      ]
    },
    {
      "cell_type": "code",
      "source": [
        "image_path = '/content/drive/MyDrive/WhatsApp Image 2023-03-18 at 14.56.45.jpg' # set the full path to the image file\n",
        "image_name = os.path.basename(image_path) # extract the filename from the path\n",
        "\n",
        "# Load the image and extract the data\n",
        "image = cv2.imread(image_path)\n",
        "h, w = image.shape[:2]\n",
        "processed_image = preprocess_image(image)\n",
        "print(processed_image)\n",
        "idxs, boxes, classIDs = detect_objects(processed_image)\n",
        "\n",
        "# Loop through each object detected by YOLO and extract the text using OCR\n",
        "for i in idxs.flatten():\n",
        "  if classIDs[i] == 0: # Only extract text from objects classified as text\n",
        "    box = boxes[i]\n",
        "    text = extract_text(image, box)\n",
        "\n",
        "    # Map the extracted text to its corresponding field using regular expressions\n",
        "    data = map_fields_with_data(text, field_identifiers)\n",
        "    if len(field_data) > 0:\n",
        "      # If a matching field is found, add the text to the data dictionary\n",
        "      data.update(field_data)\n",
        "\n",
        "# Print the extracted data\n",
        "print(\"Extracted data:\")\n",
        "for field, value in data.items():\n",
        "  print(f\"{field}: {value}\")\n"
      ],
      "metadata": {
        "id": "BTcTsOs3HXkl"
      },
      "execution_count": null,
      "outputs": []
    },
    {
      "cell_type": "code",
      "source": [
        "idxs, boxes, classIDs = detect_objects(processed_image)\n",
        "\n",
        "# Loop through each object detected by YOLO and extract the text using OCR\n",
        "for i in idxs.flatten():\n",
        "  if classIDs[i] == 0: # Only extract text from objects classified as text\n",
        "    box = boxes[i]\n",
        "    text = extract_text(image, box)\n",
        "\n",
        "    # Map the extracted text to its corresponding field using regular expressions\n",
        "    data = map_fields_with_data(text, field_identifiers)\n",
        "    if len(field_data) > 0:\n",
        "      # If a matching field is found, add the text to the data dictionary\n",
        "      data.update(field_data)\n",
        "\n",
        "# Print the extracted data\n",
        "print(\"Extracted data:\")\n",
        "for field, value in data.items():\n",
        "  print(f\"{field}: {value}\")\n"
      ],
      "metadata": {
        "id": "5p_5dedGbFVV"
      },
      "execution_count": null,
      "outputs": []
    }
  ]
}